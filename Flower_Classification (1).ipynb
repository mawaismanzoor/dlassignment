{
  "nbformat": 4,
  "nbformat_minor": 0,
  "metadata": {
    "accelerator": "GPU",
    "colab": {
      "name": "Flower Classification.ipynb",
      "provenance": [],
      "toc_visible": true
    },
    "kernelspec": {
      "display_name": "Python 3",
      "language": "python",
      "name": "python3"
    },
    "language_info": {
      "codemirror_mode": {
        "name": "ipython",
        "version": 3
      },
      "file_extension": ".py",
      "mimetype": "text/x-python",
      "name": "python",
      "nbconvert_exporter": "python",
      "pygments_lexer": "ipython3",
      "version": "3.8.5"
    }
  },
  "cells": [
    {
      "cell_type": "markdown",
      "metadata": {
        "id": "QryRUu0gr00w"
      },
      "source": [
        "### Import modules"
      ]
    },
    {
      "cell_type": "code",
      "metadata": {
        "id": "D3XQIHSbr004"
      },
      "source": [
        "import tensorflow as tf\n",
        "from keras.optimizers import SGD\n",
        "from tensorflow import keras\n",
        "from tensorflow.keras import layers,models\n",
        "from tensorflow.keras.preprocessing.image import ImageDataGenerator"
      ],
      "execution_count": 27,
      "outputs": []
    },
    {
      "cell_type": "code",
      "metadata": {
        "colab": {
          "base_uri": "https://localhost:8080/"
        },
        "id": "Z_0qNqYvr006",
        "outputId": "6177ed67-6ba3-4210-b814-53d50aa1e0bc"
      },
      "source": [
        "tf.config.list_physical_devices(\n",
        "device_type=None\n",
        ")"
      ],
      "execution_count": 28,
      "outputs": [
        {
          "output_type": "execute_result",
          "data": {
            "text/plain": [
              "[PhysicalDevice(name='/physical_device:CPU:0', device_type='CPU'),\n",
              " PhysicalDevice(name='/physical_device:GPU:0', device_type='GPU')]"
            ]
          },
          "metadata": {
            "tags": []
          },
          "execution_count": 28
        }
      ]
    },
    {
      "cell_type": "code",
      "metadata": {
        "colab": {
          "base_uri": "https://localhost:8080/"
        },
        "id": "6YDmgXLV3aA5",
        "outputId": "953ad4c6-0ddc-4cd9-e1dc-cf63c6cfd92c"
      },
      "source": [
        "from google.colab import drive\n",
        "drive.mount('/content/drive')"
      ],
      "execution_count": 29,
      "outputs": [
        {
          "output_type": "stream",
          "text": [
            "Drive already mounted at /content/drive; to attempt to forcibly remount, call drive.mount(\"/content/drive\", force_remount=True).\n"
          ],
          "name": "stdout"
        }
      ]
    },
    {
      "cell_type": "code",
      "metadata": {
        "id": "FxUSanMfvKKL"
      },
      "source": [
        "#!unzip /content/drive/MyDrive/archive.zip"
      ],
      "execution_count": 30,
      "outputs": []
    },
    {
      "cell_type": "markdown",
      "metadata": {
        "id": "eXLLBRA6r006"
      },
      "source": [
        "### Hyper Parameters "
      ]
    },
    {
      "cell_type": "code",
      "metadata": {
        "id": "vqzFMabLr007"
      },
      "source": [
        "#Define some parameters\n",
        "img_size = 150\n",
        "batch_size = 16"
      ],
      "execution_count": 9,
      "outputs": []
    },
    {
      "cell_type": "markdown",
      "metadata": {
        "id": "5UA99zMrr007"
      },
      "source": [
        "### Image Data Generator\n",
        "We will define image data generator"
      ]
    },
    {
      "cell_type": "code",
      "metadata": {
        "id": "m7jLvTd2r007"
      },
      "source": [
        "train_datagen = ImageDataGenerator(\n",
        "        rescale=1./255,\n",
        "        shear_range=0.2,\n",
        "        zoom_range=0.2,\n",
        "        horizontal_flip=True,\n",
        "        validation_split=0.4, )\n",
        "test_datagen = ImageDataGenerator(rescale=1./255, validation_split=0.4)"
      ],
      "execution_count": 31,
      "outputs": []
    },
    {
      "cell_type": "markdown",
      "metadata": {
        "id": "-Rc0Qkdor008"
      },
      "source": [
        "## Build batch Generator"
      ]
    },
    {
      "cell_type": "code",
      "metadata": {
        "colab": {
          "base_uri": "https://localhost:8080/"
        },
        "id": "Ja0f8h9Qr008",
        "outputId": "a49848ef-0a5b-4f6a-bcc9-76e9e2d0be7e"
      },
      "source": [
        "train_generator = train_datagen.flow_from_directory(\n",
        "        'flowers',  # this is the target directory\n",
        "        target_size=(img_size, img_size),  # all images will be resized to img_sizeximg_size\n",
        "        batch_size=batch_size,\n",
        "          color_mode=\"grayscale\",\n",
        "        class_mode='categorical',subset='training')\n",
        "\n",
        "# this is a similar generator, for validation data\n",
        "validation_generator = test_datagen.flow_from_directory(\n",
        "        'flowers',\n",
        "        target_size=(img_size, img_size),\n",
        "        batch_size=batch_size,\n",
        "          color_mode=\"grayscale\",\n",
        "        class_mode='categorical', subset='validation')"
      ],
      "execution_count": 32,
      "outputs": [
        {
          "output_type": "stream",
          "text": [
            "Found 5191 images belonging to 6 classes.\n",
            "Found 3455 images belonging to 6 classes.\n"
          ],
          "name": "stdout"
        }
      ]
    },
    {
      "cell_type": "code",
      "metadata": {
        "id": "qGI7z_PJr008"
      },
      "source": [
        "class_names = train_generator.class_indices"
      ],
      "execution_count": 33,
      "outputs": []
    },
    {
      "cell_type": "markdown",
      "metadata": {
        "id": "EbE_sdHMr009"
      },
      "source": [
        "### Build a CNN Model"
      ]
    },
    {
      "cell_type": "code",
      "metadata": {
        "id": "OLe5N8m2r009"
      },
      "source": [
        "model = keras.Sequential([\n",
        "  keras.Input(shape=(img_size, img_size)),\n",
        "  layers.Flatten(),\n",
        "  layers.Dense(1024, activation='relu'),\n",
        "  layers.Dropout(0.2),\n",
        "  layers.Dense(1024, activation='relu'),\n",
        "  layers.Dropout(0.2),\n",
        "  layers.Dense(784, activation='relu'),\n",
        "  layers.Dense(128, activation='relu'),\n",
        "  layers.Dense(len(class_names), activation='softmax')\n",
        "])"
      ],
      "execution_count": 34,
      "outputs": []
    },
    {
      "cell_type": "markdown",
      "metadata": {
        "id": "z8Ryb-Vrr009"
      },
      "source": [
        "### Loss Function and Optimizer"
      ]
    },
    {
      "cell_type": "code",
      "metadata": {
        "id": "kHjwS0PyqG-9"
      },
      "source": [
        "opt = SGD(lr=0.01, momentum=0.9)"
      ],
      "execution_count": 35,
      "outputs": []
    },
    {
      "cell_type": "code",
      "metadata": {
        "id": "ppN9yJ30r00-"
      },
      "source": [
        "model.compile(optimizer=opt, loss='categorical_crossentropy', metrics=['accuracy'])"
      ],
      "execution_count": 36,
      "outputs": []
    },
    {
      "cell_type": "code",
      "metadata": {
        "colab": {
          "base_uri": "https://localhost:8080/"
        },
        "id": "C_Djn0OZr00-",
        "outputId": "b981a609-9b9f-43a3-8d1a-29559ebad414"
      },
      "source": [
        "model.summary()"
      ],
      "execution_count": 37,
      "outputs": [
        {
          "output_type": "stream",
          "text": [
            "Model: \"sequential_2\"\n",
            "_________________________________________________________________\n",
            "Layer (type)                 Output Shape              Param #   \n",
            "=================================================================\n",
            "flatten_2 (Flatten)          (None, 22500)             0         \n",
            "_________________________________________________________________\n",
            "dense_8 (Dense)              (None, 1024)              23041024  \n",
            "_________________________________________________________________\n",
            "dropout_4 (Dropout)          (None, 1024)              0         \n",
            "_________________________________________________________________\n",
            "dense_9 (Dense)              (None, 1024)              1049600   \n",
            "_________________________________________________________________\n",
            "dropout_5 (Dropout)          (None, 1024)              0         \n",
            "_________________________________________________________________\n",
            "dense_10 (Dense)             (None, 784)               803600    \n",
            "_________________________________________________________________\n",
            "dropout_6 (Dropout)          (None, 784)               0         \n",
            "_________________________________________________________________\n",
            "dense_11 (Dense)             (None, 128)               100480    \n",
            "_________________________________________________________________\n",
            "dense_12 (Dense)             (None, 6)                 774       \n",
            "=================================================================\n",
            "Total params: 24,995,478\n",
            "Trainable params: 24,995,478\n",
            "Non-trainable params: 0\n",
            "_________________________________________________________________\n"
          ],
          "name": "stdout"
        }
      ]
    },
    {
      "cell_type": "markdown",
      "metadata": {
        "id": "m3KGK7-Er00-"
      },
      "source": [
        "### Model Training"
      ]
    },
    {
      "cell_type": "code",
      "metadata": {
        "id": "ptdtcHzbr00-"
      },
      "source": [
        "STEP_SIZE_TRAIN=train_generator.n//train_generator.batch_size\n",
        "STEP_SIZE_VALID=validation_generator.n//validation_generator.batch_size"
      ],
      "execution_count": 38,
      "outputs": []
    },
    {
      "cell_type": "code",
      "metadata": {
        "colab": {
          "base_uri": "https://localhost:8080/"
        },
        "id": "CI5DvmU7r00_",
        "outputId": "36d28442-a9a1-4777-da83-e6305859491e"
      },
      "source": [
        "model.fit_generator(train_generator,epochs=10,steps_per_epoch= STEP_SIZE_TRAIN, validation_data=validation_generator, validation_steps = STEP_SIZE_VALID)"
      ],
      "execution_count": 39,
      "outputs": [
        {
          "output_type": "stream",
          "text": [
            "Epoch 1/10\n",
            "WARNING:tensorflow:Model was constructed with shape (None, 150, 150) for input KerasTensor(type_spec=TensorSpec(shape=(None, 150, 150), dtype=tf.float32, name='input_2'), name='input_2', description=\"created by layer 'input_2'\"), but it was called on an input with incompatible shape (None, None, None, None).\n"
          ],
          "name": "stdout"
        },
        {
          "output_type": "stream",
          "text": [
            "/usr/local/lib/python3.7/dist-packages/tensorflow/python/keras/engine/training.py:1844: UserWarning: `Model.fit_generator` is deprecated and will be removed in a future version. Please use `Model.fit`, which supports generators.\n",
            "  warnings.warn('`Model.fit_generator` is deprecated and '\n"
          ],
          "name": "stderr"
        },
        {
          "output_type": "stream",
          "text": [
            "WARNING:tensorflow:Model was constructed with shape (None, 150, 150) for input KerasTensor(type_spec=TensorSpec(shape=(None, 150, 150), dtype=tf.float32, name='input_2'), name='input_2', description=\"created by layer 'input_2'\"), but it was called on an input with incompatible shape (None, None, None, None).\n",
            "324/324 [==============================] - ETA: 0s - loss: 1.6465 - accuracy: 0.4620WARNING:tensorflow:Model was constructed with shape (None, 150, 150) for input KerasTensor(type_spec=TensorSpec(shape=(None, 150, 150), dtype=tf.float32, name='input_2'), name='input_2', description=\"created by layer 'input_2'\"), but it was called on an input with incompatible shape (None, None, None, None).\n",
            "324/324 [==============================] - 37s 113ms/step - loss: 1.6462 - accuracy: 0.4621 - val_loss: 1.5011 - val_accuracy: 0.5006\n",
            "Epoch 2/10\n",
            "324/324 [==============================] - 36s 111ms/step - loss: 1.4774 - accuracy: 0.4953 - val_loss: 1.5207 - val_accuracy: 0.4788\n",
            "Epoch 3/10\n",
            "324/324 [==============================] - 36s 111ms/step - loss: 1.4646 - accuracy: 0.4966 - val_loss: 1.4948 - val_accuracy: 0.4988\n",
            "Epoch 4/10\n",
            "324/324 [==============================] - 36s 111ms/step - loss: 1.4747 - accuracy: 0.4865 - val_loss: 1.5218 - val_accuracy: 0.4797\n",
            "Epoch 5/10\n",
            "324/324 [==============================] - 36s 110ms/step - loss: 1.4557 - accuracy: 0.5002 - val_loss: 1.4834 - val_accuracy: 0.4959\n",
            "Epoch 6/10\n",
            "324/324 [==============================] - 36s 110ms/step - loss: 1.4577 - accuracy: 0.4971 - val_loss: 1.4933 - val_accuracy: 0.4878\n",
            "Epoch 7/10\n",
            "324/324 [==============================] - 36s 111ms/step - loss: 1.4728 - accuracy: 0.4834 - val_loss: 1.5277 - val_accuracy: 0.4645\n",
            "Epoch 8/10\n",
            "324/324 [==============================] - 36s 112ms/step - loss: 1.4685 - accuracy: 0.4878 - val_loss: 1.5147 - val_accuracy: 0.4997\n",
            "Epoch 9/10\n",
            "324/324 [==============================] - 36s 110ms/step - loss: 1.4595 - accuracy: 0.4959 - val_loss: 1.5410 - val_accuracy: 0.4422\n",
            "Epoch 10/10\n",
            "324/324 [==============================] - 35s 109ms/step - loss: 1.4420 - accuracy: 0.5085 - val_loss: 1.5037 - val_accuracy: 0.4951\n"
          ],
          "name": "stdout"
        },
        {
          "output_type": "execute_result",
          "data": {
            "text/plain": [
              "<tensorflow.python.keras.callbacks.History at 0x7fee700f5b10>"
            ]
          },
          "metadata": {
            "tags": []
          },
          "execution_count": 39
        }
      ]
    },
    {
      "cell_type": "markdown",
      "metadata": {
        "id": "tEOnXsgjsHAm"
      },
      "source": [
        "**Evaluation Step**\n"
      ]
    },
    {
      "cell_type": "code",
      "metadata": {
        "id": "ocdqk2uT4AD7",
        "colab": {
          "base_uri": "https://localhost:8080/"
        },
        "outputId": "e2550b1a-e619-45ed-aa48-89c7ef73a9f5"
      },
      "source": [
        "scores = model.evaluate_generator(validation_generator)\n",
        "print(\"Accuracy = \", scores[1])"
      ],
      "execution_count": 40,
      "outputs": [
        {
          "output_type": "stream",
          "text": [
            "/usr/local/lib/python3.7/dist-packages/tensorflow/python/keras/engine/training.py:1877: UserWarning: `Model.evaluate_generator` is deprecated and will be removed in a future version. Please use `Model.evaluate`, which supports generators.\n",
            "  warnings.warn('`Model.evaluate_generator` is deprecated and '\n"
          ],
          "name": "stderr"
        },
        {
          "output_type": "stream",
          "text": [
            "Accuracy =  0.49493488669395447\n"
          ],
          "name": "stdout"
        }
      ]
    },
    {
      "cell_type": "code",
      "metadata": {
        "id": "zMnfqeqntsUI"
      },
      "source": [
        ""
      ],
      "execution_count": null,
      "outputs": []
    }
  ]
}